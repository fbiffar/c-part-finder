{
 "cells": [
  {
   "cell_type": "markdown",
   "metadata": {},
   "source": [
    "### Import Libraries "
   ]
  },
  {
   "cell_type": "code",
   "execution_count": null,
   "metadata": {},
   "outputs": [],
   "source": [
    "import cv2\n",
    "import numpy as np\n",
    "import matplotlib.pyplot as plt\n",
    "import base64\n",
    "import requests\n",
    "import json\n",
    "from dotenv import load_dotenv \n",
    "import os\n",
    "import requests\n",
    "from googlesearch import search\n",
    "import csv"
   ]
  },
  {
   "cell_type": "markdown",
   "metadata": {},
   "source": [
    "### Function to display an image using Matplotlib"
   ]
  },
  {
   "cell_type": "code",
   "execution_count": null,
   "metadata": {},
   "outputs": [],
   "source": [
    "def display_image(img, title=\"Image\"):\n",
    "    plt.figure(figsize=(8, 8))\n",
    "    if len(img.shape) == 3:  # Color image\n",
    "        plt.imshow(cv2.cvtColor(img, cv2.COLOR_BGR2RGB))\n",
    "    else:  # Grayscale image\n",
    "        plt.imshow(img, cmap='gray')\n",
    "    plt.title(title)\n",
    "    plt.axis('off')\n",
    "    plt.show()"
   ]
  },
  {
   "cell_type": "markdown",
   "metadata": {},
   "source": [
    "### Function to divide the image into a grid"
   ]
  },
  {
   "cell_type": "code",
   "execution_count": null,
   "metadata": {},
   "outputs": [],
   "source": [
    "def divide_image_into_tiles(image, rows, cols):\n",
    "    h, w = image.shape[:2]\n",
    "    tile_h, tile_w = h // rows, w // cols\n",
    "    tiles = []\n",
    "    for i in range(rows):\n",
    "        for j in range(cols):\n",
    "            y_start, x_start = i * tile_h, j * tile_w\n",
    "            y_end, x_end = y_start + tile_h, x_start + tile_w\n",
    "            tile = image[y_start:y_end, x_start:x_end]\n",
    "            tiles.append(tile)\n",
    "    return tiles, tile_h, tile_w"
   ]
  },
  {
   "cell_type": "markdown",
   "metadata": {},
   "source": [
    "### Function to overlay grid lines on the image"
   ]
  },
  {
   "cell_type": "code",
   "execution_count": null,
   "metadata": {},
   "outputs": [],
   "source": [
    "\n",
    "def overlay_grid(image, rows, cols):\n",
    "    img_with_grid = image.copy()\n",
    "    h, w = img_with_grid.shape[:2]\n",
    "    tile_h, tile_w = h // rows, w // cols\n",
    "    for i in range(1, rows):\n",
    "        cv2.line(img_with_grid, (0, i * tile_h), (w, i * tile_h), (0, 255, 0), 2)\n",
    "    for j in range(1, cols):\n",
    "        cv2.line(img_with_grid, (j * tile_w, 0), (j * tile_w, h), (0, 255, 0), 2)\n",
    "    return img_with_grid"
   ]
  },
  {
   "cell_type": "markdown",
   "metadata": {},
   "source": [
    "### Function to arrange tiles in a single grid layout\n"
   ]
  },
  {
   "cell_type": "code",
   "execution_count": null,
   "metadata": {},
   "outputs": [],
   "source": [
    "def arrange_tiles_in_grid(tiles, rows, cols):\n",
    "    tile_h, tile_w = tiles[0].shape[:2]\n",
    "    grid = np.zeros((rows * tile_h, cols * tile_w, 3), dtype=np.uint8)\n",
    "    for idx, tile in enumerate(tiles):\n",
    "        i, j = divmod(idx, cols)\n",
    "        grid[i * tile_h:(i + 1) * tile_h, j * tile_w:(j + 1) * tile_w] = tile\n",
    "    return grid"
   ]
  },
  {
   "cell_type": "markdown",
   "metadata": {},
   "source": [
    "### Function to encode an image to base64\n"
   ]
  },
  {
   "cell_type": "code",
   "execution_count": null,
   "metadata": {},
   "outputs": [],
   "source": [
    "def encode_to_base64(image):\n",
    "    _, buffer = cv2.imencode('.png', image)\n",
    "    return base64.b64encode(buffer).decode('utf-8')\n"
   ]
  },
  {
   "cell_type": "markdown",
   "metadata": {},
   "source": [
    "### Function to send image data to OpenAI API"
   ]
  },
  {
   "cell_type": "code",
   "execution_count": null,
   "metadata": {},
   "outputs": [],
   "source": [
    "def send_to_openai_api(encoded_image, api_endpoint, api_key):\n",
    "    headers = {\n",
    "        \"Authorization\": f\"Bearer {api_key}\",\n",
    "        \"Content-Type\": \"application/json\",\n",
    "    }\n",
    "     \n",
    "    data = {\n",
    "        \"model\": \"gpt-4o-mini\",\n",
    "        \"messages\": [\n",
    "            {\n",
    "                \"role\": \"user\",\n",
    "                \"content\": [\n",
    "                    {\"type\": \"text\", \"text\": \"Please identify any machine components in this image. No rigorous explanation. List the components seperated by commas\"},\n",
    "                    {\n",
    "                        \"type\": \"image_url\",\n",
    "                        \"image_url\": {\n",
    "                            \"url\": f\"data:image/png;base64,{encoded_image}\"\n",
    "                        }\n",
    "                    }\n",
    "                ]\n",
    "            }\n",
    "        ],\n",
    "        \"max_tokens\": 300  \n",
    "    }\n",
    "    response = requests.post(api_endpoint, headers=headers, json=data)\n",
    "    return response.json()"
   ]
  },
  {
   "cell_type": "markdown",
   "metadata": {},
   "source": [
    "### Extract and print only the content"
   ]
  },
  {
   "cell_type": "code",
   "execution_count": null,
   "metadata": {},
   "outputs": [],
   "source": [
    "def print_response_and_store (response, idx):\n",
    "    \n",
    "    content = response.get(\"choices\", [{}])[0].get(\"message\", {}).get(\"content\", \"No content available\")\n",
    "    print(f\"Tile {idx + 1} Response: {content}\")\n",
    "    return [[element.strip(), idx +1] for element in content.split(\",\") if element.strip()]\n",
    "    "
   ]
  },
  {
   "cell_type": "markdown",
   "metadata": {},
   "source": [
    "### Search Bossard + Item in Google Search"
   ]
  },
  {
   "cell_type": "code",
   "execution_count": null,
   "metadata": {},
   "outputs": [],
   "source": [
    "def search_bossard(component_name):\n",
    "    query = f\"{component_name} site: www.bossard.com\"\n",
    "    try:\n",
    "        # Use next() to get the first result from the generator\n",
    "        result = next(search(query, num_results=1, lang='de'), None)\n",
    "        if result:\n",
    "            return result\n",
    "        else:\n",
    "            return \"Not available\"\n",
    "    except Exception as e:\n",
    "        print(f\"Error searching for '{component_name}': {e}\")\n",
    "        return \"Not available\""
   ]
  },
  {
   "cell_type": "markdown",
   "metadata": {},
   "source": [
    "### Function to store the component and its URL in the CSV file immediately"
   ]
  },
  {
   "cell_type": "code",
   "execution_count": null,
   "metadata": {},
   "outputs": [],
   "source": [
    "def store_in_csv(file_path,part_id, component, url, tile_id):\n",
    "    if url != \"https://www.bossard.com/ch-en/\" and url != \"Not available\" and url != \"https://www.bossard.com/\": \n",
    "        with open(file_path, mode=\"a\", newline=\"\", encoding=\"utf-8\") as file:\n",
    "            writer = csv.writer(file)\n",
    "            writer.writerow([part_id, component, url, tile_id])"
   ]
  },
  {
   "cell_type": "markdown",
   "metadata": {},
   "source": [
    "### Load the Image and Divide it into Tiles"
   ]
  },
  {
   "cell_type": "code",
   "execution_count": null,
   "metadata": {},
   "outputs": [],
   "source": [
    "# Load and display the original image\n",
    "image_path = \"e_shop_2/conveyor_machine.png\"\n",
    "image = cv2.imread(image_path)\n",
    "display_image(image, \"Original Image\")\n",
    "\n",
    "# Divide the image into tiles\n",
    "rows, cols = 2,2\n",
    "tiles, tile_h, tile_w = divide_image_into_tiles(image, rows, cols)"
   ]
  },
  {
   "cell_type": "markdown",
   "metadata": {},
   "source": [
    "### View Tile division and put image back together (not needed)"
   ]
  },
  {
   "cell_type": "code",
   "execution_count": null,
   "metadata": {},
   "outputs": [],
   "source": [
    "# Overlay the grid on the image and display\n",
    "image_with_grid = overlay_grid(image, rows, cols)\n",
    "display_image(image_with_grid, \"Image with Grid Overlay\")\n",
    "\n",
    "# Display each tile individually\n",
    "for idx, tile in enumerate(tiles):\n",
    "    display_image(tile, f\"Tile {idx + 1}\")\n",
    "\n",
    "# Arrange and display all tiles in a single grid layout\n",
    "tiles_grid = arrange_tiles_in_grid(tiles, rows, cols)\n",
    "display_image(tiles_grid, \"All Tiles Arranged in Grid\")"
   ]
  },
  {
   "cell_type": "markdown",
   "metadata": {},
   "source": [
    "### Image Analysis: Part Identification"
   ]
  },
  {
   "cell_type": "code",
   "execution_count": null,
   "metadata": {},
   "outputs": [],
   "source": [
    "# Access environment variables\n",
    "load_dotenv()\n",
    "api_key = os.getenv(\"OPENAI_API_KEY\")\n",
    "api_endpoint = os.getenv(\"OPENAI_API_ENDPOINT\")\n",
    "\n",
    "all_tile_elements = []\n",
    "for idx, tile in enumerate(tiles):\n",
    "        encoded_tile = encode_to_base64(tile)\n",
    "        response = send_to_openai_api(encoded_tile, api_endpoint, api_key)\n",
    "        all_tile_elements.extend(print_response_and_store(response, idx))\n",
    "        break\n",
    "# Print the combined list of all elements\n",
    "print(\"All Elements from Tiles:\", all_tile_elements)"
   ]
  },
  {
   "cell_type": "markdown",
   "metadata": {},
   "source": [
    "### Google for Identified Part and add to CSV"
   ]
  },
  {
   "cell_type": "code",
   "execution_count": null,
   "metadata": {},
   "outputs": [],
   "source": [
    "availability = {}\n",
    "# Initialize CSV file with header\n",
    "csv_file_path = \"machine_parts_live.csv\"\n",
    "with open(csv_file_path, mode=\"w\", newline=\"\", encoding=\"utf-8\") as file:\n",
    "    writer = csv.writer(file)\n",
    "    writer.writerow([\"Part ID\",\"Machine Part\", \"URL\", \"Tile ID\"])\n",
    "\n",
    "for part_id, component in enumerate(all_tile_elements, start=1): \n",
    "    component_name, tile_id = component\n",
    "    url = search_bossard(component_name)\n",
    "    availability[component_name] = url\n",
    "    print(f\"Part ID: {part_id}, Component: {component_name}, URL: {url}\")\n",
    "    store_in_csv(csv_file_path, part_id, component_name, url, tile_id) \n",
    "    break "
   ]
  },
  {
   "cell_type": "markdown",
   "metadata": {},
   "source": [
    "### TODO: Mark Location where Part is located"
   ]
  }
 ],
 "metadata": {
  "kernelspec": {
   "display_name": "venv",
   "language": "python",
   "name": "python3"
  },
  "language_info": {
   "name": "python",
   "version": "3.10.12"
  }
 },
 "nbformat": 4,
 "nbformat_minor": 2
}
