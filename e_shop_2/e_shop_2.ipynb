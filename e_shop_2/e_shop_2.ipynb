{
 "cells": [
  {
   "cell_type": "markdown",
   "metadata": {},
   "source": [
    "### Script Overview:\n",
    "This script performs the following tasks:\n",
    "1. Loads an image using OpenCV.\n",
    "2. Divides the image into a grid of tiles based on specified rows and columns.\n",
    "3. Displays the original image with grid lines overlayed.\n",
    "4. Extracts and displays each tile individually.\n",
    "5. Arranges and displays all tiles in a single grid layout.\n",
    "6. Encodes each tile image to base64.\n",
    "7. Sends each encoded tile to the OpenAI API to identify any machine components.\n",
    "8. Prints out the response from the OpenAI API for each tile."
   ]
  },
  {
   "cell_type": "markdown",
   "metadata": {},
   "source": [
    "### Import Libraries "
   ]
  },
  {
   "cell_type": "code",
   "execution_count": null,
   "metadata": {},
   "outputs": [],
   "source": [
    "# Import necessary libraries\n",
    "import os  # For environment variables and file path manipulation\n",
    "import io  # For in-memory byte streams\n",
    "import base64  # For encoding images to base64 strings\n",
    "import cv2  # For image loading and processing\n",
    "import matplotlib.pyplot as plt  # For displaying images\n",
    "import openai  # For interacting with the OpenAI API\n",
    "from PIL import Image  # For image processing\n",
    "from dotenv import load_dotenv  # For loading environment variables from a .env file\n",
    "import requests  # For making HTTP requests"
   ]
  },
  {
   "cell_type": "markdown",
   "metadata": {},
   "source": [
    "### Load Environment Variables"
   ]
  },
  {
   "cell_type": "code",
   "execution_count": null,
   "metadata": {},
   "outputs": [],
   "source": [
    "# Load environment variables from .env file\n",
    "load_dotenv()\n",
    "api_key = os.getenv(\"OPENAI_API_KEY\")"
   ]
  },
  {
   "cell_type": "markdown",
   "metadata": {},
   "source": [
    "### Load and Edit Image"
   ]
  },
  {
   "cell_type": "code",
   "execution_count": null,
   "metadata": {},
   "outputs": [],
   "source": [
    "# Load the image using OpenCV\n",
    "image_path = 'conveyor_machine.png'  # Specify the path to your image here\n",
    "# image_path = 'packaging_machine.png'  # Specify the path to your image here\n",
    "image = cv2.imread(image_path)  # Read the image from the specified path\n",
    "\n",
    "# Check if the image was loaded successfully\n",
    "if image is None:\n",
    "    raise FileNotFoundError(f\"Image not found at path: {image_path}\")\n",
    "\n",
    "# Convert the image from BGR (OpenCV default) to RGB for displaying with matplotlib\n",
    "image_rgb = cv2.cvtColor(image, cv2.COLOR_BGR2RGB)\n",
    "\n",
    "# Define the number of rows and columns for the grid (e.g., 3x3 grid)\n",
    "num_rows = 3  # Number of rows in the grid\n",
    "num_cols = 3  # Number of columns in the grid\n",
    "\n",
    "# Calculate the height and width of each tile\n",
    "tile_height = image.shape[0] // num_rows  # Height of each tile\n",
    "tile_width = image.shape[1] // num_cols  # Width of each tile\n",
    "\n",
    "# Display the original image with grid lines\n",
    "plt.figure(figsize=(8, 8))  # Create a figure with a specified size\n",
    "plt.imshow(image_rgb)  # Display the image\n",
    "plt.title(\"Original Image with Grid Lines\")  # Set the title of the plot\n",
    "\n",
    "# Draw horizontal grid lines\n",
    "for row in range(1, num_rows):\n",
    "    y = row * tile_height  # Calculate the y-coordinate for the horizontal line\n",
    "    plt.axhline(y=y, color='red', linestyle='--', linewidth=1)  # Draw the horizontal line\n",
    "\n",
    "# Draw vertical grid lines\n",
    "for col in range(1, num_cols):\n",
    "    x = col * tile_width  # Calculate the x-coordinate for the vertical line\n",
    "    plt.axvline(x=x, color='red', linestyle='--', linewidth=1)  # Draw the vertical line\n",
    "\n",
    "# Remove axis ticks and labels for a cleaner look\n",
    "plt.axis(\"off\")  # Hide the axes\n",
    "plt.show()  # Display the plot\n",
    "\n",
    "# Initialize a list to store the tiles\n",
    "tiles = []  # List to hold each tile extracted from the image\n",
    "\n",
    "# Loop through rows and columns to extract each tile\n",
    "for row in range(num_rows):\n",
    "    for col in range(num_cols):\n",
    "        # Calculate the starting and ending pixel coordinates for each tile\n",
    "        y_start = row * tile_height  # Starting y-coordinate\n",
    "        y_end = y_start + tile_height  # Ending y-coordinate\n",
    "        x_start = col * tile_width  # Starting x-coordinate\n",
    "        x_end = x_start + tile_width  # Ending x-coordinate\n",
    "\n",
    "        # Extract the tile from the original image\n",
    "        tile = image_rgb[y_start:y_end, x_start:x_end]  # Slice the image array to get the tile\n",
    "\n",
    "        # Append the tile to the list\n",
    "        tiles.append(tile)  # Add the tile to the tiles list\n",
    "\n",
    "        # Display each tile individually\n",
    "        plt.figure(figsize=(3, 3))  # Create a figure for the tile\n",
    "        plt.title(f\"Tile {row * num_cols + col + 1}\")  # Set the title with the tile number\n",
    "        plt.imshow(tile)  # Display the tile image\n",
    "        plt.axis(\"off\")  # Hide the axes\n",
    "        plt.show()  # Display the plot\n",
    "\n",
    "# Plot all tiles in a single figure, arranged in a grid\n",
    "fig, axes = plt.subplots(num_rows, num_cols, figsize=(10, 10))  # Create subplots\n",
    "\n",
    "# Flatten the axes array for easy iteration\n",
    "axes = axes.flatten()  # Flatten the 2D array of axes into a 1D array\n",
    "\n",
    "# Loop through each tile and corresponding axis to display them\n",
    "for idx, (tile, ax) in enumerate(zip(tiles, axes)):\n",
    "    # Display each tile in the respective subplot\n",
    "    ax.imshow(tile)  # Show the tile image on the subplot\n",
    "    ax.set_title(f\"Tile {idx + 1}\")  # Set the title with the tile number\n",
    "    ax.axis(\"off\")  # Hide the axes for a cleaner look\n",
    "\n",
    "# Adjust layout to prevent overlap\n",
    "plt.tight_layout()  # Automatically adjust subplot parameters for a neat layout\n",
    "plt.show()  # Display the grid of tiles"
   ]
  },
  {
   "cell_type": "markdown",
   "metadata": {},
   "source": [
    "### Function to encode the image to base64"
   ]
  },
  {
   "cell_type": "code",
   "execution_count": null,
   "metadata": {},
   "outputs": [],
   "source": [
    "def encode_image_to_base64(image):\n",
    "    \"\"\"\n",
    "    Encodes a PIL Image object to a base64 string.\n",
    "\n",
    "    Args:\n",
    "        image (PIL.Image.Image): The image to encode.\n",
    "\n",
    "    Returns:\n",
    "        str: The base64 encoded string of the image.\n",
    "    \"\"\"\n",
    "    buffered = io.BytesIO()  # Create an in-memory bytes buffer\n",
    "    image.save(buffered, format=\"PNG\")  # Save the image to the buffer in PNG format\n",
    "    return base64.b64encode(buffered.getvalue()).decode(\"utf-8\")  # Encode and return as string"
   ]
  },
  {
   "cell_type": "markdown",
   "metadata": {},
   "source": [
    "\n",
    "### Function to send a request with the encoded image and prompt"
   ]
  },
  {
   "cell_type": "code",
   "execution_count": null,
   "metadata": {},
   "outputs": [],
   "source": [
    "def identify_components_in_tile(tile_image):\n",
    "    \"\"\"\n",
    "    Sends a tile image to the OpenAI API to identify any machine components.\n",
    "\n",
    "    Args:\n",
    "        tile_image (PIL.Image.Image): The tile image to analyze.\n",
    "    \"\"\"\n",
    "    # Encode the tile image to base64\n",
    "    base64_image = encode_image_to_base64(tile_image)  # Convert image to base64 string\n",
    "\n",
    "    # Define headers and payload for the API request\n",
    "    headers = {\n",
    "        \"Content-Type\": \"application/json\",  # Specify the content type\n",
    "        \"Authorization\": f\"Bearer {api_key}\"  # Include the API key in the header\n",
    "    }\n",
    "\n",
    "    # Define the prompt and payload for the request\n",
    "    payload = {\n",
    "        \"model\": \"gpt-4o\",  # Specify the model to use (Note: 'gpt-4o' may need to be adjusted)\n",
    "        \"messages\": [\n",
    "            {\n",
    "                \"role\": \"user\",\n",
    "                \"content\": [\n",
    "                    {\"type\": \"text\", \"text\": \"Please identify any machine components in this image.\"},\n",
    "                    {\n",
    "                        \"type\": \"image_url\",\n",
    "                        \"image_url\": {\n",
    "                            \"url\": f\"data:image/png;base64,{base64_image}\"  # Include the image in data URL format\n",
    "                        }\n",
    "                    }\n",
    "                ]\n",
    "            }\n",
    "        ],\n",
    "        \"max_tokens\": 300  # Set the maximum number of tokens in the response\n",
    "    }\n",
    "\n",
    "    # Send the request to the OpenAI API\n",
    "    response = requests.post(\n",
    "        \"https://api.openai.com/v1/chat/completions\",\n",
    "        headers=headers,\n",
    "        json=payload\n",
    "    )\n",
    "\n",
    "    # Output the response content\n",
    "    if response.status_code == 200:\n",
    "        # Extract the response message content\n",
    "        response_message = response.json()[\"choices\"][0][\"message\"][\"content\"]\n",
    "        print(\"Detected components:\", response_message)  # Print the detected components\n",
    "    else:\n",
    "        # Print error details if the request failed\n",
    "        print(\"Error:\", response.status_code, response.text)\n",
    "\n"
   ]
  },
  {
   "cell_type": "markdown",
   "metadata": {},
   "source": [
    "### Iterate over each tile for analysis"
   ]
  },
  {
   "cell_type": "code",
   "execution_count": null,
   "metadata": {},
   "outputs": [],
   "source": [
    "\n",
    "for index, tile in enumerate(tiles):\n",
    "    print(f\"\\nAnalyzing Tile {index + 1}\")  # Indicate which tile is being analyzed\n",
    "    tile_image = Image.fromarray(tile)  # Convert the NumPy array to a PIL Image\n",
    "    identify_components_in_tile(tile_image)  # Call the function to analyze the tile"
   ]
  }
 ],
 "metadata": {
  "kernelspec": {
   "display_name": "venv",
   "language": "python",
   "name": "python3"
  },
  "language_info": {
   "name": "python",
   "version": "3.10.12"
  }
 },
 "nbformat": 4,
 "nbformat_minor": 2
}
